{
  "nbformat": 4,
  "nbformat_minor": 0,
  "metadata": {
    "kernelspec": {
      "display_name": "Python 3",
      "language": "python",
      "name": "python3"
    },
    "language_info": {
      "codemirror_mode": {
        "name": "ipython",
        "version": 3
      },
      "file_extension": ".py",
      "mimetype": "text/x-python",
      "name": "python",
      "nbconvert_exporter": "python",
      "pygments_lexer": "ipython3",
      "version": "3.6.2"
    },
    "colab": {
      "name": "Content Based Recommender (Description Based).ipynb",
      "provenance": [],
      "include_colab_link": true
    }
  },
  "cells": [
    {
      "cell_type": "markdown",
      "metadata": {
        "id": "view-in-github",
        "colab_type": "text"
      },
      "source": [
        "<a href=\"https://colab.research.google.com/github/codebyabhishek772/Content_Based_Books_Recommender/blob/master/Content_Based_Recommender_(Description_Based).ipynb\" target=\"_parent\"><img src=\"https://colab.research.google.com/assets/colab-badge.svg\" alt=\"Open In Colab\"/></a>"
      ]
    },
    {
      "cell_type": "code",
      "metadata": {
        "id": "vJH6FXXmpuw7",
        "colab_type": "code",
        "colab": {}
      },
      "source": [
        "# importing libraries\n",
        "import pandas as pd\n",
        "from sklearn.metrics.pairwise import linear_kernel\n",
        "from sklearn.feature_extraction.text import TfidfVectorizer"
      ],
      "execution_count": null,
      "outputs": []
    },
    {
      "cell_type": "code",
      "metadata": {
        "id": "85JoFlHepuxP",
        "colab_type": "code",
        "colab": {}
      },
      "source": [
        "# reading file\n",
        "book_description = pd.read_csv('description.csv', encoding = 'latin-1')"
      ],
      "execution_count": null,
      "outputs": []
    },
    {
      "cell_type": "code",
      "metadata": {
        "id": "AA5k5g9-puxl",
        "colab_type": "code",
        "colab": {},
        "outputId": "b1bbe004-493e-4a4c-8a43-a71145e3211e"
      },
      "source": [
        "# checking if we have the right data\n",
        "book_description.head()"
      ],
      "execution_count": null,
      "outputs": [
        {
          "output_type": "execute_result",
          "data": {
            "text/html": [
              "<div>\n",
              "<style scoped>\n",
              "    .dataframe tbody tr th:only-of-type {\n",
              "        vertical-align: middle;\n",
              "    }\n",
              "\n",
              "    .dataframe tbody tr th {\n",
              "        vertical-align: top;\n",
              "    }\n",
              "\n",
              "    .dataframe thead th {\n",
              "        text-align: right;\n",
              "    }\n",
              "</style>\n",
              "<table border=\"1\" class=\"dataframe\">\n",
              "  <thead>\n",
              "    <tr style=\"text-align: right;\">\n",
              "      <th></th>\n",
              "      <th>book_id</th>\n",
              "      <th>name</th>\n",
              "      <th>description</th>\n",
              "    </tr>\n",
              "  </thead>\n",
              "  <tbody>\n",
              "    <tr>\n",
              "      <th>0</th>\n",
              "      <td>4833.0</td>\n",
              "      <td>The Glass Castle</td>\n",
              "      <td>A tender, moving tale of unconditional love in...</td>\n",
              "    </tr>\n",
              "    <tr>\n",
              "      <th>1</th>\n",
              "      <td>590.0</td>\n",
              "      <td>Night (The Night Trilogy, #1)</td>\n",
              "      <td>Born into a Jewish ghetto in Hungary, as a chi...</td>\n",
              "    </tr>\n",
              "    <tr>\n",
              "      <th>2</th>\n",
              "      <td>4264.0</td>\n",
              "      <td>Angela's Ashes (Frank McCourt, #1)</td>\n",
              "      <td>Imbued on every page with Frank McCourt's asto...</td>\n",
              "    </tr>\n",
              "    <tr>\n",
              "      <th>3</th>\n",
              "      <td>3361.0</td>\n",
              "      <td>Eat, Pray, Love</td>\n",
              "      <td>A celebrated writer's irresistible, candid, an...</td>\n",
              "    </tr>\n",
              "    <tr>\n",
              "      <th>4</th>\n",
              "      <td>4535.0</td>\n",
              "      <td>Into Thin Air: A Personal Account of the Mount...</td>\n",
              "      <td>A bank of clouds was assembling on the not-so-...</td>\n",
              "    </tr>\n",
              "  </tbody>\n",
              "</table>\n",
              "</div>"
            ],
            "text/plain": [
              "   book_id                                               name  \\\n",
              "0   4833.0                                  The Glass Castle    \n",
              "1    590.0                     Night (The Night Trilogy, #1)    \n",
              "2   4264.0                Angela's Ashes (Frank McCourt, #1)    \n",
              "3   3361.0                                   Eat, Pray, Love    \n",
              "4   4535.0  Into Thin Air: A Personal Account of the Mount...   \n",
              "\n",
              "                                         description  \n",
              "0  A tender, moving tale of unconditional love in...  \n",
              "1  Born into a Jewish ghetto in Hungary, as a chi...  \n",
              "2  Imbued on every page with Frank McCourt's asto...  \n",
              "3  A celebrated writer's irresistible, candid, an...  \n",
              "4  A bank of clouds was assembling on the not-so-...  "
            ]
          },
          "metadata": {
            "tags": []
          },
          "execution_count": 3
        }
      ]
    },
    {
      "cell_type": "code",
      "metadata": {
        "id": "up6tzhSZpux1",
        "colab_type": "code",
        "colab": {}
      },
      "source": [
        "# removing the stop words\n",
        "books_tfidf = TfidfVectorizer(stop_words='english')\n",
        "# replace NaN with empty strings\n",
        "book_description['description'] = book_description['description'].fillna('')\n",
        "# computing TF-IDF matrix required for calculating cosine similarity\n",
        "book_description_matrix = books_tfidf.fit_transform(book_description['description'])\n"
      ],
      "execution_count": null,
      "outputs": []
    },
    {
      "cell_type": "code",
      "metadata": {
        "id": "utqppnMvpux-",
        "colab_type": "code",
        "colab": {},
        "outputId": "b689edb4-9295-4684-8b03-b6abff73a832"
      },
      "source": [
        "# Let's check the shape of computed matrix\n",
        "book_description_matrix.shape"
      ],
      "execution_count": null,
      "outputs": [
        {
          "output_type": "execute_result",
          "data": {
            "text/plain": [
              "(143, 4186)"
            ]
          },
          "metadata": {
            "tags": []
          },
          "execution_count": 5
        }
      ]
    },
    {
      "cell_type": "code",
      "metadata": {
        "id": "uyQIgXvWpuyH",
        "colab_type": "code",
        "colab": {}
      },
      "source": [
        "# compuing cosine similarity matrix using linear_kernal of sklearn\n",
        "cosine_similarity = linear_kernel(book_description_matrix, book_description_matrix)"
      ],
      "execution_count": null,
      "outputs": []
    },
    {
      "cell_type": "code",
      "metadata": {
        "id": "xKTkoTffpuyT",
        "colab_type": "code",
        "colab": {},
        "outputId": "d7d053e6-6d25-4169-d5ae-09c3248a887a"
      },
      "source": [
        "\n",
        "# Get the pairwsie similarity scores of all books compared to the book passed by index, sorting them and getting top 5\n",
        "# here 2 is the index of the book in dataset\n",
        "similarity_scores = list(enumerate(cosine_similarity[2]))\n",
        "similarity_scores = sorted(similarity_scores, key=lambda x: x[1], reverse=True)\n",
        "similarity_scores = similarity_scores[1:6]\n",
        "\n",
        "# Get the similar books index\n",
        "books_index = [i[0] for i in similarity_scores]\n",
        "\n",
        "    # Return the top 5 most similar books using integer-location based indexing (iloc)\n",
        "print (book_description['name'].iloc[books_index])\n"
      ],
      "execution_count": null,
      "outputs": [
        {
          "output_type": "stream",
          "text": [
            "6                                 Running with Scissors \n",
            "29                            The Diary of a Young Girl \n",
            "116    It's St. Patrick's Day (Turtleback School & Li...\n",
            "11     Persepolis: The Story of a Childhood (Persepol...\n",
            "20     Maus I: A Survivor's Tale: My Father Bleeds Hi...\n",
            "Name: name, dtype: object\n"
          ],
          "name": "stdout"
        }
      ]
    }
  ]
}